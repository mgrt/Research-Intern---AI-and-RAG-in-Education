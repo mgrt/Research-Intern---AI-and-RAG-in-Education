{
 "cells": [
  {
   "cell_type": "code",
   "execution_count": 1,
   "metadata": {},
   "outputs": [],
   "source": [
    "from langchain_openai import OpenAI\n",
    "from langchain_openai import OpenAIEmbeddings\n",
    "from langchain.prompts import PromptTemplate\n",
    "from langchain.chains import LLMChain"
   ]
  },
  {
   "cell_type": "code",
   "execution_count": null,
   "metadata": {},
   "outputs": [],
   "source": [
    "llm=OpenAI(openai_api_key=\"****\")\n",
    "embedding = OpenAIEmbeddings(openai_api_key=\"***\")"
   ]
  },
  {
   "cell_type": "markdown",
   "metadata": {},
   "source": [
    "example of local llm"
   ]
  },
  {
   "cell_type": "code",
   "execution_count": 11,
   "metadata": {},
   "outputs": [],
   "source": [
    "from langchain_community.llms import Ollama\n",
    "llm1 = Ollama(model=\"llama3.1:latest\")"
   ]
  },
  {
   "cell_type": "markdown",
   "metadata": {},
   "source": [
    "Correct The Question"
   ]
  },
  {
   "cell_type": "code",
   "execution_count": 83,
   "metadata": {},
   "outputs": [],
   "source": [
    "\n",
    "# Initialize the language model (llm)\n",
    "\n",
    "# Define the prompt template\n",
    "prompt = PromptTemplate(\n",
    "    input_variables=[\"question\"],\n",
    "    template=\"\"\"correct cette:\" {question}\"\n",
    "\"\"\"\n",
    ")\n",
    "\n",
    "# Initialize the LLM chain with the prompt\n",
    "chain = LLMChain(llm=llm, prompt=prompt)\n",
    "\n",
    "\n"
   ]
  },
  {
   "cell_type": "code",
   "execution_count": 84,
   "metadata": {},
   "outputs": [
    {
     "name": "stdout",
     "output_type": "stream",
     "text": [
      "\n",
      "Correcte : \"la loi binomiale\"\n"
     ]
    }
   ],
   "source": [
    "question = \"ce qoit loi binomial\"\n",
    "\n",
    "# Run the chain with the question\n",
    "answer12 = chain.run({\"question\": question})\n",
    "\n",
    "# Output the answer\n",
    "print(answer12)\n"
   ]
  },
  {
   "cell_type": "markdown",
   "metadata": {},
   "source": [
    "Build The RAG"
   ]
  },
  {
   "cell_type": "code",
   "execution_count": 3,
   "metadata": {},
   "outputs": [],
   "source": [
    "from langchain_community.vectorstores import Chroma\n",
    "from langchain.document_loaders import PyPDFLoader\n",
    "from langchain.text_splitter import CharacterTextSplitter\n",
    "from langchain.chains import RetrievalQA"
   ]
  },
  {
   "cell_type": "code",
   "execution_count": 4,
   "metadata": {},
   "outputs": [],
   "source": [
    "\n",
    "text_splitter = CharacterTextSplitter(\n",
    "    separator=\"\\n\",\n",
    "    chunk_size=1000,\n",
    "    chunk_overlap=150,\n",
    "    length_function=len\n",
    ")"
   ]
  },
  {
   "cell_type": "code",
   "execution_count": 6,
   "metadata": {},
   "outputs": [],
   "source": [
    "loader = PyPDFLoader(\"cours Rappel probabilite.pdf\")\n",
    "pages = loader.load()"
   ]
  },
  {
   "cell_type": "code",
   "execution_count": 7,
   "metadata": {},
   "outputs": [],
   "source": [
    "docs = text_splitter.split_documents(pages)"
   ]
  },
  {
   "cell_type": "code",
   "execution_count": 11,
   "metadata": {},
   "outputs": [],
   "source": [
    "def extract_between_da_and_pdf(input_string):\n",
    "\n",
    "    start = input_string.find(\"da/\")\n",
    "    end = input_string.find(\".pdf\")\n",
    "    \n",
    "\n",
    "    if start != -1 and end != -1:\n",
    "      \n",
    "        return input_string[start + len(\"da/\"):end]\n",
    "    else:\n",
    "        return \"Pattern not found\"\n",
    "def buildrag(full_path,persist_directory):\n",
    "    \n",
    "    loader = PyPDFLoader(full_path)\n",
    "    pages = loader.load()\n",
    "    for i in pages:\n",
    "        i.metadata[\"topic\"]=extract_between_da_and_pdf(i.metadata[\"source\"])\n",
    "        i.metadata[\"cours\"]=\"exs\"\n",
    "        \n",
    "    docs = text_splitter.split_documents(pages)\n",
    "    vectorstoresen = Chroma.from_documents(\n",
    "    documents=docs,\n",
    "    embedding=embedding,\n",
    "    persist_directory=persist_directory\n",
    "    )        \n",
    "            \n",
    "    return 1"
   ]
  },
  {
   "cell_type": "markdown",
   "metadata": {},
   "source": [
    "Example for the function"
   ]
  },
  {
   "cell_type": "code",
   "execution_count": null,
   "metadata": {},
   "outputs": [],
   "source": [
    "full_path=\"test_pdfs/louka.pdf\"\n",
    "persist_directory = 'test/'\n",
    "buildrag(full_path,persist_directory)"
   ]
  },
  {
   "cell_type": "markdown",
   "metadata": {},
   "source": [
    "Build the vector-database"
   ]
  },
  {
   "cell_type": "code",
   "execution_count": 12,
   "metadata": {},
   "outputs": [],
   "source": [
    "import os\n",
    "pdf_directory = \"da/\"\n",
    "\n",
    "persist_directory = 'final2/'\n",
    "for filename in os.listdir(pdf_directory):\n",
    "    # Check if the file is a PDF\n",
    "    if filename.endswith(\".pdf\"):\n",
    "        # Create the full path to the PDF file\n",
    "        full_path = os.path.join(pdf_directory, filename)\n",
    "        buildrag(full_path,persist_directory)\n",
    "        "
   ]
  },
  {
   "cell_type": "markdown",
   "metadata": {},
   "source": [
    "Chatbot Rag"
   ]
  },
  {
   "cell_type": "code",
   "execution_count": 13,
   "metadata": {},
   "outputs": [],
   "source": [
    "persist_directory = 'final2/'\n",
    "vectordb = Chroma(persist_directory=persist_directory, embedding_function=embedding)"
   ]
  },
  {
   "cell_type": "code",
   "execution_count": 14,
   "metadata": {},
   "outputs": [
    {
     "data": {
      "text/plain": [
       "[Document(metadata={'cours': 'cours', 'page': 5, 'source': 'da/cours Rappel probabilite.pdf', 'topic': 'cours Rappel probabilite'}, page_content='3 Lois usuelles discr` etes\\n3.1 La loi de Bernoulli B(p)\\nLa variable al´ eatoire Xsuit une loi de Bernouilli de probabilit´ e p, siXvaut 1 ou\\n0 avec les probabilit´ es respectives pet 1−p.D´ efinition 11 (Loi de Bernoulli B(p))\\nOn note X∼ B(p) on a alors\\n•P(X=x) =px(1−p)1−x,∀x∈ {0; 1}\\n•E[X] =p\\n•V[X] =p(1−p)\\n3.2 La loi binomiale B(n, p)\\nSi la variable al´ eatoire Xsuit une loi binomiale : X∼ B(n, p), cela veut dire que X\\nest ´ egale au nombre de succ` es obtenus dans une s´ erie de n´ epreuves de Bernouilli\\nind´ ependantes de probabilit´ e p.D´ efinition 12 (Loi binomiale B(n, p))\\nOn note X∼ B(p) on a alors\\n•P(X=k) =Ck\\nnpk(1−p)n−k∀k∈ {0,1, . . . , n }\\n•E[X] =np\\n•V[X] =np(1−p)\\n3.3 La loi de Poisson P(λ)\\nSi une variable al´ eatoire Xrepr´ esente le nombre de succ` es dans un intervalle de\\ntemps consid´ er´ e, alors Xob´ eit ` a une distribution de Poisson : X∼ P(λ) ;λest\\nle param` etre de la loi qui d´ ecrit le nombre moyen de succ` es dans cet intervalle de'),\n",
       " Document(metadata={'cours': 'exs', 'page': 1, 'source': 'da/Examen_TEI_janvier_2024__correction.pdf', 'topic': 'Examen_TEI_janvier_2024__correction'}, page_content='2 / 5\\n1.(1 pt) Donner la loi de Yi, puis son esp´ erance et sa variance.\\nLa loi de Yiest de Bernoulli : Yi∼ B(p). Plus pr´ ecisement,\\nP(Yi= 1) = petP(Yi= 0) = 1 −p.\\nE(Yi) =petV(Yi) =p(1−p).\\n2. Soit n= 235 le nombre de billets vendus, on d´ efinit maintenant X=Pn\\ni=1Yila variable al´ eatoire qui\\nrepr´ esente le nombre de personnes, parmi les n, qui se pr´ esentent au d´ epart. On suppose que les voyageurs\\nont des comportements ind´ ependants.\\na.(1 pt) Quelle est la loi de X, Justifier. Donner son esp´ erance et sa variance.\\nLa v.a Xsuit la loi binomiale B(n= 235 , p= 0.95) et ∀k∈ {0,1, ...,235}\\nP(X=k) =Ck\\n235pk(1−p)235−k=Ck\\n235(0.95)k(0.05)235−k\\nE(X) =np= 235 ×0.95 = 223 .25 et V(X) =np(1−p) = 11 .162.\\nb.(1 pt) Justifier qu’on peut approcher la loi de Xpar la loi normale de moyenne npet d’´ ecart-typep\\nnp(1−p).\\nOn a n= 235 >30 et Y1, ..., Y nune suite de v.a ind´ ependantes et identiquement distribu´ ees ( Yi∼\\nB(p)).Alors, d’apr` es le th´ eor` eme central limite (TCL), X=nX'),\n",
       " Document(metadata={'cours': 'exs', 'page': 7, 'source': 'da/Application.pdf', 'topic': 'Application'}, page_content='Application\\nDéfinition\\nLa loi géométrique est une loi de probabilité discrète qui modélise\\nl’observation du nombre d’épreuves de Bernoulli identiques et\\nindépendantes devant se succéder pour espérer un premier succès.\\nOn note X∼ G(p)\\nPropriétés\\n•La probabilité de remporter un premier succès à l’épreuve k est égale\\nà :P(X=k) =p.(1−p)k−1.\\n•E(X) =1\\np.\\n•Var(X) =(1−p)\\np2.\\n25'),\n",
       " Document(metadata={'cours': 'exs', 'page': 2, 'source': 'da/correction exercice 3.pdf', 'topic': 'correction exercice 3'}, page_content='Exercice N °3\\nSolution:\\n1. Un estimateur ponctuel de la proportion est :\\nbp=1\\nnnX\\ni=1Xi\\navec Xisuivent la loi de Bernoulli B(p).\\nune estimation ponctuelle de la proportion, associée à la réalisation\\n(x1,x2, ,xn)de l’échantillon (X1, ,Xn)est :\\nDonc\\nbp=1\\nnnX\\ni=1xi=250\\n1000=0.25\\n2')]"
      ]
     },
     "execution_count": 14,
     "metadata": {},
     "output_type": "execute_result"
    }
   ],
   "source": [
    "dd=vectordb.similarity_search(\"loi binomial\")\n",
    "dd"
   ]
  },
  {
   "cell_type": "markdown",
   "metadata": {},
   "source": [
    "Determine the topic from the question"
   ]
  },
  {
   "cell_type": "code",
   "execution_count": 12,
   "metadata": {},
   "outputs": [
    {
     "name": "stderr",
     "output_type": "stream",
     "text": [
      "C:\\Users\\malek\\AppData\\Local\\Temp\\ipykernel_87792\\3014908639.py:20: LangChainDeprecationWarning: The class `LLMChain` was deprecated in LangChain 0.1.17 and will be removed in 1.0. Use :meth:`~RunnableSequence, e.g., `prompt | llm`` instead.\n",
      "  chain = LLMChain(llm=llm1, prompt=prompt)\n"
     ]
    }
   ],
   "source": [
    "# Initialize the language model (llm)\n",
    "\n",
    "# Define the prompt template\n",
    "prompt = PromptTemplate(\n",
    "    input_variables=[\"question\"],\n",
    "    template=\"\"\"\n",
    "Vous recevrez une question en entrée, et votre tâche est de déterminer de quel sujet parmi les suivants elle relève :\n",
    "\n",
    "Variables aléatoires continues\n",
    "Tests d'hypothèses\n",
    "Intervalle de confiance\n",
    "Rappel probabilité\n",
    "Estimation ponctuelle & distribution d’échantillonnage\n",
    "Si la question ne correspond à aucun de ces sujets, veuillez simplement répondre : 'Je ne suis pas capable de déterminer le sujet.'\n",
    "\n",
    "\"\"\"\n",
    ")\n",
    "\n",
    "# Initialize the LLM chain with the prompt\n",
    "chain = LLMChain(llm=llm, prompt=prompt)\n",
    "\n"
   ]
  },
  {
   "cell_type": "code",
   "execution_count": 8,
   "metadata": {},
   "outputs": [
    {
     "name": "stderr",
     "output_type": "stream",
     "text": [
      "C:\\Users\\malek\\AppData\\Local\\Temp\\ipykernel_79048\\1493202701.py:4: LangChainDeprecationWarning: The method `Chain.run` was deprecated in langchain 0.1.0 and will be removed in 1.0. Use :meth:`~invoke` instead.\n",
      "  answer1 = chain.run({\"question\": question})\n"
     ]
    },
    {
     "name": "stdout",
     "output_type": "stream",
     "text": [
      "Rappel probabilité\n"
     ]
    }
   ],
   "source": [
    "question = \"c'est qoit markov binomial\"\n",
    "answer1 = chain.run({\"question\": question})\n",
    "print(answer1)\n",
    "#Now, if the LLM determines the topic, you can search the database by filtering for that topic."
   ]
  },
  {
   "cell_type": "markdown",
   "metadata": {},
   "source": [
    "#Now, if the LLM determines the topic, you can search the database by filtering for that topic."
   ]
  },
  {
   "cell_type": "markdown",
   "metadata": {},
   "source": [
    "chat with chatbot"
   ]
  },
  {
   "cell_type": "code",
   "execution_count": 15,
   "metadata": {},
   "outputs": [],
   "source": [
    "\n",
    "persist_directory = 'final2/'\n",
    "vectordb = Chroma(persist_directory=persist_directory, embedding_function=embedding)"
   ]
  },
  {
   "cell_type": "code",
   "execution_count": 58,
   "metadata": {},
   "outputs": [],
   "source": [
    "from langchain.prompts import PromptTemplate\n",
    "\n",
    "# Build prompt\n",
    "template = \"\"\"Utilisez les informations suivantes pour répondre à la question à la fin. Si vous ne connaissez pas la réponse, dites simplement que vous ne savez pas, ne tentez pas d'inventer une réponse. Utilisez un maximum de trois phrases. Gardez la réponse aussi concise que possible. Terminez toujours par \"merci d'avoir posé la question !\".\n",
    "\n",
    "{context}\n",
    "Question : {question}\n",
    "Réponse utile :\n",
    "\"\"\"\n",
    "QA_CHAIN_PROMPT = PromptTemplate.from_template(template)"
   ]
  },
  {
   "cell_type": "code",
   "execution_count": 87,
   "metadata": {},
   "outputs": [],
   "source": [
    "qa_chain = RetrievalQA.from_chain_type(\n",
    "    llm,\n",
    "    retriever=vectordb.as_retriever(search_kwargs={\"k\": 2},\n",
    "                                 ),  # Set the number of retrieved documents to k\n",
    "    return_source_documents=True,\n",
    "    chain_type_kwargs={\"prompt\": QA_CHAIN_PROMPT}\n",
    ")\n"
   ]
  },
  {
   "cell_type": "code",
   "execution_count": 88,
   "metadata": {},
   "outputs": [
    {
     "data": {
      "text/plain": [
       "\"La loi binomiale est une distribution de probabilité discrète qui modélise le nombre de succès dans une série d'épreuves indépendantes de même probabilité de succès. Elle est définie par deux paramètres : le nombre d'épreuves n et la probabilité de succès p. La variable aléatoire X suit alors une loi binomiale B(n, p), avec n étant le nombre de répétitions et p la probabilité de succès.\""
      ]
     },
     "execution_count": 88,
     "metadata": {},
     "output_type": "execute_result"
    }
   ],
   "source": [
    "question = \"\"\"\n",
    "ce qoit loi binomial\n",
    "\"\"\"\n",
    "result = qa_chain({\"query\": question})\n",
    "result[\"result\"]"
   ]
  },
  {
   "cell_type": "code",
   "execution_count": 89,
   "metadata": {},
   "outputs": [
    {
     "data": {
      "text/plain": [
       "{'query': '\\ndefinir loi binomial\\n',\n",
       " 'result': \"La loi binomiale est une distribution de probabilité discrète qui modélise le nombre de succès dans une série d'épreuves indépendantes de même probabilité de succès. Elle est définie par deux paramètres : le nombre d'épreuves n et la probabilité de succès p. La variable aléatoire X suit alors une loi binomiale B(n, p), avec n étant le nombre de répétitions et p la probabilité de succès.\",\n",
       " 'source_documents': [Document(metadata={'page': 5, 'source': 'da/cours Rappel probabilite.pdf', 'topic': 'cours Rappel probabilite'}, page_content='3 Lois usuelles discr` etes\\n3.1 La loi de Bernoulli B(p)\\nLa variable al´ eatoire Xsuit une loi de Bernouilli de probabilit´ e p, siXvaut 1 ou\\n0 avec les probabilit´ es respectives pet 1−p.D´ efinition 11 (Loi de Bernoulli B(p))\\nOn note X∼ B(p) on a alors\\n•P(X=x) =px(1−p)1−x,∀x∈ {0; 1}\\n•E[X] =p\\n•V[X] =p(1−p)\\n3.2 La loi binomiale B(n, p)\\nSi la variable al´ eatoire Xsuit une loi binomiale : X∼ B(n, p), cela veut dire que X\\nest ´ egale au nombre de succ` es obtenus dans une s´ erie de n´ epreuves de Bernouilli\\nind´ ependantes de probabilit´ e p.D´ efinition 12 (Loi binomiale B(n, p))\\nOn note X∼ B(p) on a alors\\n•P(X=k) =Ck\\nnpk(1−p)n−k∀k∈ {0,1, . . . , n }\\n•E[X] =np\\n•V[X] =np(1−p)\\n3.3 La loi de Poisson P(λ)\\nSi une variable al´ eatoire Xrepr´ esente le nombre de succ` es dans un intervalle de\\ntemps consid´ er´ e, alors Xob´ eit ` a une distribution de Poisson : X∼ P(λ) ;λest\\nle param` etre de la loi qui d´ ecrit le nombre moyen de succ` es dans cet intervalle de'),\n",
       "  Document(metadata={'page': 1, 'source': 'da/Examen_TEI_janvier_2024__correction.pdf', 'topic': 'Examen_TEI_janvier_2024__correction'}, page_content='2 / 5\\n1.(1 pt) Donner la loi de Yi, puis son esp´ erance et sa variance.\\nLa loi de Yiest de Bernoulli : Yi∼ B(p). Plus pr´ ecisement,\\nP(Yi= 1) = petP(Yi= 0) = 1 −p.\\nE(Yi) =petV(Yi) =p(1−p).\\n2. Soit n= 235 le nombre de billets vendus, on d´ efinit maintenant X=Pn\\ni=1Yila variable al´ eatoire qui\\nrepr´ esente le nombre de personnes, parmi les n, qui se pr´ esentent au d´ epart. On suppose que les voyageurs\\nont des comportements ind´ ependants.\\na.(1 pt) Quelle est la loi de X, Justifier. Donner son esp´ erance et sa variance.\\nLa v.a Xsuit la loi binomiale B(n= 235 , p= 0.95) et ∀k∈ {0,1, ...,235}\\nP(X=k) =Ck\\n235pk(1−p)235−k=Ck\\n235(0.95)k(0.05)235−k\\nE(X) =np= 235 ×0.95 = 223 .25 et V(X) =np(1−p) = 11 .162.\\nb.(1 pt) Justifier qu’on peut approcher la loi de Xpar la loi normale de moyenne npet d’´ ecart-typep\\nnp(1−p).\\nOn a n= 235 >30 et Y1, ..., Y nune suite de v.a ind´ ependantes et identiquement distribu´ ees ( Yi∼\\nB(p)).Alors, d’apr` es le th´ eor` eme central limite (TCL), X=nX')]}"
      ]
     },
     "execution_count": 89,
     "metadata": {},
     "output_type": "execute_result"
    }
   ],
   "source": [
    "result"
   ]
  },
  {
   "cell_type": "markdown",
   "metadata": {},
   "source": [
    "chat with rag and activate filtre"
   ]
  },
  {
   "cell_type": "code",
   "execution_count": 97,
   "metadata": {},
   "outputs": [
    {
     "name": "stdout",
     "output_type": "stream",
     "text": [
      "Donne-moi la définition de la loi binomiale.\n"
     ]
    }
   ],
   "source": [
    "prompt = PromptTemplate(\n",
    "    input_variables=[\"question\"],\n",
    "    template=\"\"\"Corrige les fautes d'orthographe dans le texte suivant sans changer le sens des phrases :\n",
    "{question}\n",
    "Texte corrigé :\n",
    "\n",
    "\"\"\"\n",
    ")\n",
    "\n",
    "# Initialize the LLM chain with the prompt\n",
    "chain1 =\"\"\n",
    "chain1 = LLMChain(llm=llm, prompt=prompt)\n",
    "\n",
    "question = \"dpnner moi definitionloi binomial\"\n",
    "\n",
    "# Run the chain with the question\n",
    "answer1 = chain1.run({\"question\": question})\n",
    "\n",
    "# Output the answer\n",
    "print(answer1)"
   ]
  },
  {
   "cell_type": "code",
   "execution_count": 16,
   "metadata": {},
   "outputs": [],
   "source": [
    "from langchain.prompts import PromptTemplate\n",
    "\n",
    "# Build prompt\n",
    "template = \"\"\"Utilisez les informations suivantes pour répondre à la question à la fin. Si vous ne connaissez pas la réponse, dites simplement que vous ne savez pas, ne tentez pas d'inventer une réponse. Utilisez un maximum de trois phrases. Gardez la réponse aussi concise que possible. Terminez toujours par \"merci d'avoir posé la question !\".\n",
    "\n",
    "{context}\n",
    "Question : {question}\n",
    "Réponse utile :\n",
    "\"\"\"\n",
    "QA_CHAIN_PROMPT = PromptTemplate.from_template(template)"
   ]
  },
  {
   "cell_type": "code",
   "execution_count": 21,
   "metadata": {},
   "outputs": [],
   "source": [
    "qa_chain = RetrievalQA.from_chain_type(\n",
    "    llm,\n",
    "retriever = vectordb.as_retriever(search_kwargs={\"k\": 2, \"filter\": {\"cours\": \"cours\"}})\n",
    ",  # Set the number of retrieved documents to k\n",
    "    return_source_documents=True,\n",
    "    chain_type_kwargs={\"prompt\": QA_CHAIN_PROMPT}\n",
    ")"
   ]
  },
  {
   "cell_type": "code",
   "execution_count": 22,
   "metadata": {},
   "outputs": [
    {
     "data": {
      "text/plain": [
       "\" La loi binomiale est une loi de probabilité qui décrit le nombre de succès obtenus dans une série de n épreuves de Bernoulli indépendantes de probabilité p. Elle est notée X~B(n,p) et ses paramètres sont le nombre d'épreuves n et la probabilité de succès p. Merci d'avoir posé la question !\""
      ]
     },
     "execution_count": 22,
     "metadata": {},
     "output_type": "execute_result"
    }
   ],
   "source": [
    "question = \"\"\"\n",
    "Donne-moi la définition de la loi binomiale.\n",
    "\"\"\"\n",
    "result = qa_chain({\"query\": answer1})\n",
    "result[\"result\"]"
   ]
  },
  {
   "cell_type": "code",
   "execution_count": 23,
   "metadata": {},
   "outputs": [
    {
     "data": {
      "text/plain": [
       "{'query': '\\nDonne-moi la définition de la loi binomiale.\\n',\n",
       " 'result': \" La loi binomiale est une loi de probabilité qui décrit le nombre de succès obtenus dans une série de n épreuves de Bernoulli indépendantes de probabilité p. Elle est notée X~B(n,p) et ses paramètres sont le nombre d'épreuves n et la probabilité de succès p. Merci d'avoir posé la question !\",\n",
       " 'source_documents': [Document(metadata={'cours': 'cours', 'page': 5, 'source': 'da/cours Rappel probabilite.pdf', 'topic': 'cours Rappel probabilite'}, page_content='3 Lois usuelles discr` etes\\n3.1 La loi de Bernoulli B(p)\\nLa variable al´ eatoire Xsuit une loi de Bernouilli de probabilit´ e p, siXvaut 1 ou\\n0 avec les probabilit´ es respectives pet 1−p.D´ efinition 11 (Loi de Bernoulli B(p))\\nOn note X∼ B(p) on a alors\\n•P(X=x) =px(1−p)1−x,∀x∈ {0; 1}\\n•E[X] =p\\n•V[X] =p(1−p)\\n3.2 La loi binomiale B(n, p)\\nSi la variable al´ eatoire Xsuit une loi binomiale : X∼ B(n, p), cela veut dire que X\\nest ´ egale au nombre de succ` es obtenus dans une s´ erie de n´ epreuves de Bernouilli\\nind´ ependantes de probabilit´ e p.D´ efinition 12 (Loi binomiale B(n, p))\\nOn note X∼ B(p) on a alors\\n•P(X=k) =Ck\\nnpk(1−p)n−k∀k∈ {0,1, . . . , n }\\n•E[X] =np\\n•V[X] =np(1−p)\\n3.3 La loi de Poisson P(λ)\\nSi une variable al´ eatoire Xrepr´ esente le nombre de succ` es dans un intervalle de\\ntemps consid´ er´ e, alors Xob´ eit ` a une distribution de Poisson : X∼ P(λ) ;λest\\nle param` etre de la loi qui d´ ecrit le nombre moyen de succ` es dans cet intervalle de'),\n",
       "  Document(metadata={'cours': 'cours', 'page': 3, 'source': 'da/cours Rappel probabilite.pdf', 'topic': 'cours Rappel probabilite'}, page_content='Exemple 3 : On jette une pi` eces de monnaie deux fois et on consid` ere la variable al´ eatoire\\nXrepr´ esentant le nombre de piles obtenues.\\nD’une part, la loi de Xest donn´ ee par l’ensemble de ces valeurs possibles ainsi que leurs\\nprobabilit´ es :\\nX(Ω) = {0; 1; 2}\\nP(X= 0) =1\\n4,P(X= 1) =1\\n2,P(X= 2) =1\\n4\\n4')]}"
      ]
     },
     "execution_count": 23,
     "metadata": {},
     "output_type": "execute_result"
    }
   ],
   "source": [
    "result"
   ]
  }
 ],
 "metadata": {
  "kernelspec": {
   "display_name": "env_name",
   "language": "python",
   "name": "python3"
  },
  "language_info": {
   "codemirror_mode": {
    "name": "ipython",
    "version": 3
   },
   "file_extension": ".py",
   "mimetype": "text/x-python",
   "name": "python",
   "nbconvert_exporter": "python",
   "pygments_lexer": "ipython3",
   "version": "3.10.7"
  }
 },
 "nbformat": 4,
 "nbformat_minor": 2
}
